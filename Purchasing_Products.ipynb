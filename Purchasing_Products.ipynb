{
 "cells": [
  {
   "cell_type": "markdown",
   "id": "cf241cb8",
   "metadata": {},
   "source": [
    "# Read Inventory"
   ]
  },
  {
   "cell_type": "code",
   "execution_count": 113,
   "id": "9579c925",
   "metadata": {},
   "outputs": [],
   "source": [
    "import json\n",
    "\n",
    "fd = open(\"record.json\",'r')\n",
    "r = fd.read()\n",
    "fd.close()\n",
    "\n",
    "records = json.loads(r)\n"
   ]
  },
  {
   "cell_type": "code",
   "execution_count": 114,
   "id": "d666e36b",
   "metadata": {},
   "outputs": [
    {
     "data": {
      "text/plain": [
       "{'1001': {'name': 'Choco Cake',\n",
       "  'qn': 32,\n",
       "  'pr': 100,\n",
       "  'discount': '1.1%',\n",
       "  'mfg_date': '2020-01-01',\n",
       "  'exp_date': '2022-01-01'},\n",
       " '1002': {'name': 'Milk Cake',\n",
       "  'pr': 800,\n",
       "  'qn': 99,\n",
       "  'discount': '1.2%',\n",
       "  'mfg_date': '2020-01-01',\n",
       "  'exp_date': '2022-01-01'},\n",
       " '1003': {'name': 'Drink',\n",
       "  'pr': 85,\n",
       "  'qn': 99,\n",
       "  'discount': '1.3%',\n",
       "  'mfg_date': '2020-01-01',\n",
       "  'exp_date': '2022-01-01'},\n",
       " '1004': {'name': 'Candy',\n",
       "  'pr': 5,\n",
       "  'qn': 1000,\n",
       "  'discount': '1.4%',\n",
       "  'mfg_date': '2020-01-01',\n",
       "  'exp_date': '2022-01-01'},\n",
       " '1005': {'name': 'Pen',\n",
       "  'pr': 20,\n",
       "  'qn': 100,\n",
       "  'discount': '1.5%',\n",
       "  'mfg_date': '2022-01-01',\n",
       "  'exp_date': '2022-01-01'},\n",
       " '1006': {'name': 'Phone',\n",
       "  'pr': 50000,\n",
       "  'qn': 7,\n",
       "  'discount': '1.6%',\n",
       "  'mfg_date': '2020-01-01',\n",
       "  'exp_date': '2022-01-01'},\n",
       " '1007': {'name': 'Mic',\n",
       "  'pr': 1500,\n",
       "  'qn': 0,\n",
       "  'discount': '1.7%',\n",
       "  'mfg_date': '2020-01-01',\n",
       "  'exp_date': '2022-01-01'},\n",
       " '1008': {'name': 'Case',\n",
       "  'pr': 599,\n",
       "  'qn': 5,\n",
       "  'discount': '1.8%',\n",
       "  'mfg_date': '2020-01-01',\n",
       "  'exp_date': '2022-01-01'},\n",
       " '1009': {'name': 'Keyboard',\n",
       "  'pr': 1999,\n",
       "  'qn': 10,\n",
       "  'discount': '1.9%',\n",
       "  'mfg_date': '2020-01-01',\n",
       "  'exp_date': '2022-01-01'},\n",
       " '1010': {'name': 'Mouse',\n",
       "  'pr': 999,\n",
       "  'qn': 99,\n",
       "  'discount': '1.10%',\n",
       "  'mfg_date': '2020-01-01',\n",
       "  'exp_date': '2022-01-01'},\n",
       " '1011': {'name': 'Pen',\n",
       "  'pr': 5,\n",
       "  'qn': 100,\n",
       "  'discount': '1.11%',\n",
       "  'mfg_date': '2020-01-01',\n",
       "  'exp_date': '2022-01-01'},\n",
       " '1012': {'name': 'Copy',\n",
       "  'pr': 25,\n",
       "  'qn': 100,\n",
       "  'discount': '1.12%',\n",
       "  'mfg_date': '2020-01-01',\n",
       "  'exp_date': '2022-01-01'},\n",
       " '1013': {'name': 'Pencil',\n",
       "  'pr': 3,\n",
       "  'qn': 100,\n",
       "  'discount': '1.13%',\n",
       "  'mfg_date': '2020-01-01',\n",
       "  'exp_date': '2022-01-01'},\n",
       " '1014': {'name': 'Screen Gaurd',\n",
       "  'pr': 100,\n",
       "  'qn': 100,\n",
       "  'discount': '1.14%',\n",
       "  'mfg_date': '2020-01-01',\n",
       "  'exp_date': '2022-01-01'},\n",
       " '1015': {'name': 'Sanitizer',\n",
       "  'pr': 99,\n",
       "  'qn': 100,\n",
       "  'discount': '1.15%',\n",
       "  'mfg_date': '2020-01-01',\n",
       "  'exp_date': '2022-01-01'},\n",
       " '1016': {'name': 'Mask',\n",
       "  'pr': 99,\n",
       "  'qn': 1000,\n",
       "  'discount': '1.16%',\n",
       "  'mfg_date': '2021-01-01',\n",
       "  'exp_date': '2022-01-01'},\n",
       " '1017': {'name': 'Gloves',\n",
       "  'pr': 100,\n",
       "  'qn': 100,\n",
       "  'discount': '1.17%',\n",
       "  'mfg_date': '2021-01-01',\n",
       "  'exp_date': '2022-01-01'},\n",
       " '1018': {'name': 'Face Wash',\n",
       "  'pr': 299,\n",
       "  'qn': 100,\n",
       "  'discount': '1.18%',\n",
       "  'mfg_date': '2021-01-01',\n",
       "  'exp_date': '2022-01-01'},\n",
       " '1019': {'name': 'Conditioner',\n",
       "  'pr': 399,\n",
       "  'qn': 100,\n",
       "  'discount': '1.19%',\n",
       "  'mfg_date': '2021-01-01',\n",
       "  'exp_date': '2022-01-01'},\n",
       " '1020': {'name': 'Soap',\n",
       "  'pr': 99,\n",
       "  'qn': 1000,\n",
       "  'discount': '1.20%',\n",
       "  'mfg_date': '2021-01-01',\n",
       "  'exp_date': '2022-01-01'},\n",
       " '1021': {'name': 'Gogle',\n",
       "  'pr': 599,\n",
       "  'qn': 100,\n",
       "  'discount': '1.21%',\n",
       "  'mfg_date': '2021-01-01',\n",
       "  'exp_date': '2022-01-01'},\n",
       " '1022': {'name': 'Make-Up-Kit',\n",
       "  'pr': 1999,\n",
       "  'qn': 100,\n",
       "  'discount': '1.22%',\n",
       "  'mfg_date': '2021-01-01',\n",
       "  'exp_date': '2022-01-01'},\n",
       " '1023': {'name': 'HeadPhones',\n",
       "  'pr': 1999,\n",
       "  'qn': 100,\n",
       "  'discount': '1.23%',\n",
       "  'mfg_date': '2021-01-01',\n",
       "  'exp_date': '2022-01-01'},\n",
       " '1024': {'name': 'Laptop',\n",
       "  'pr': 99999,\n",
       "  'qn': 100,\n",
       "  'discount': '1.24%',\n",
       "  'mfg_date': '2021-01-01',\n",
       "  'exp_date': '2022-01-01'},\n",
       " '1025': {'name': 'Charger',\n",
       "  'pr': 999,\n",
       "  'qn': 1000,\n",
       "  'discount': '1.25',\n",
       "  'mfg_date': '2021-01-01',\n",
       "  'exp_date': '2022-01-01'},\n",
       " '1026': {'name': 'USB Cable',\n",
       "  'pr': 599,\n",
       "  'qn': 1000,\n",
       "  'discount': '1.26%',\n",
       "  'mfg_date': '2021-01-01',\n",
       "  'exp_date': '2022-01-01'},\n",
       " '1027': {'name': 'Water Bottle',\n",
       "  'pr': 99,\n",
       "  'qn': 1000,\n",
       "  'discount': '1.27%',\n",
       "  'mfg_date': '2021-01-01',\n",
       "  'exp_date': '2022-01-01'},\n",
       " '1028': {'name': 'MixerCumJuicer',\n",
       "  'pr': 5999,\n",
       "  'qn': 100,\n",
       "  'discount': '1.28%',\n",
       "  'mfg_date': '2021-01-01',\n",
       "  'exp_date': '2022-01-01'},\n",
       " '1029': {'name': 'Fan',\n",
       "  'pr': 1999,\n",
       "  'qn': 100,\n",
       "  'discount': '1.29%',\n",
       "  'mfg_date': '2021-01-01',\n",
       "  'exp_date': '2022-01-01'},\n",
       " '1030': {'name': 'Cooler',\n",
       "  'pr': 9999,\n",
       "  'qn': 1000,\n",
       "  'discount': '1.30%',\n",
       "  'mfg_date': '2021-01-01',\n",
       "  'exp_date': '2022-01-01'},\n",
       " '1031': {'name': 'AC',\n",
       "  'pr': 49999,\n",
       "  'qn': 100,\n",
       "  'discount': '1.30%',\n",
       "  'mfg_date': '2021-01-01',\n",
       "  'exp_date': '2030-01-01'},\n",
       " '1032': {'name': 'Fridge',\n",
       "  'pr': 19999,\n",
       "  'qn': 100,\n",
       "  'discount': '1.32%',\n",
       "  'mfg_date': '2021-01-01',\n",
       "  'exp_date': '2022-01-01'},\n",
       " '1033': {'name': 'Vaccum Cleaner',\n",
       "  'pr': 4999,\n",
       "  'qn': 100,\n",
       "  'discount': '1.33%',\n",
       "  'mfg_date': '2021-01-01',\n",
       "  'exp_date': '2022-01-01'}}"
      ]
     },
     "execution_count": 114,
     "metadata": {},
     "output_type": "execute_result"
    }
   ],
   "source": [
    "records"
   ]
  },
  {
   "cell_type": "markdown",
   "id": "ecb6d098",
   "metadata": {},
   "source": [
    "# Purchase"
   ]
  },
  {
   "cell_type": "code",
   "execution_count": 115,
   "id": "d6b9248a",
   "metadata": {},
   "outputs": [
    {
     "name": "stdout",
     "output_type": "stream",
     "text": [
      "Enter the product_Id: 1004\n",
      "Enter the quantity: 1\n",
      "Enter the transaction date & time: 2021-09-05 05:32:00\n",
      "Product:  Candy\n",
      "Price:  5\n",
      "Billing Amount:  5\n"
     ]
    }
   ],
   "source": [
    "ui_prod  = str(input(\"Enter the product_Id: \"))\n",
    "ui_quant = int(input(\"Enter the quantity: \"))\n",
    "txn_date_time = str(input(\"Enter the transaction date & time: \"))\n",
    "\n",
    "\n",
    "print(\"Product: \", records[ui_prod]['name'])\n",
    "print(\"Price: \", records[ui_prod]['pr'])\n",
    "print(\"Billing Amount: \", records[ui_prod]['pr'] * ui_quant)\n",
    "\n",
    "records[ui_prod]['qn'] = records[ui_prod]['qn'] - ui_quant\n"
   ]
  },
  {
   "cell_type": "markdown",
   "id": "c5185556",
   "metadata": {},
   "source": [
    "# Update Inventory after purchase"
   ]
  },
  {
   "cell_type": "code",
   "execution_count": 116,
   "id": "8813e8fc",
   "metadata": {},
   "outputs": [],
   "source": [
    "js = json.dumps(records)\n",
    "\n",
    "fd = open(\"record.json\",'w')\n",
    "fd.write(js)\n",
    "fd.close()"
   ]
  },
  {
   "cell_type": "markdown",
   "id": "383093d7",
   "metadata": {},
   "source": [
    "# Read Sales\n"
   ]
  },
  {
   "cell_type": "code",
   "execution_count": 117,
   "id": "da4b0a54",
   "metadata": {},
   "outputs": [],
   "source": [
    "fd = open(\"sales.json\",'r')\n",
    "sales_json = fd.read()\n",
    "fd.close()\n",
    "sales = json.loads(sales_json)"
   ]
  },
  {
   "cell_type": "code",
   "execution_count": 118,
   "id": "63a8c22d",
   "metadata": {},
   "outputs": [
    {
     "data": {
      "text/plain": [
       "{'1': {'prod': '1002',\n",
       "  'qn': 1,\n",
       "  'amount': 800,\n",
       "  'txn_date_time': '2021-09-05 05:25:23'},\n",
       " '2': {'prod': '1001',\n",
       "  'qn': 1,\n",
       "  'amount': 100,\n",
       "  'txn_date_time': '2021-09-05 05:13:33'},\n",
       " '3': {'prod': '1003',\n",
       "  'qn': 1,\n",
       "  'amount': 85,\n",
       "  'txn_date_time': '2021-09-05 05:30:00'}}"
      ]
     },
     "execution_count": 118,
     "metadata": {},
     "output_type": "execute_result"
    }
   ],
   "source": [
    "sales"
   ]
  },
  {
   "cell_type": "markdown",
   "id": "87e18f5d",
   "metadata": {},
   "source": [
    "# Sales JSON\n"
   ]
  },
  {
   "cell_type": "code",
   "execution_count": 119,
   "id": "7db9e0eb",
   "metadata": {},
   "outputs": [
    {
     "data": {
      "text/plain": [
       "{'prod': '1004', 'qn': 1, 'amount': 5, 'txn_date_time': '2021-09-05 05:32:00'}"
      ]
     },
     "execution_count": 119,
     "metadata": {},
     "output_type": "execute_result"
    }
   ],
   "source": [
    "{'prod' : ui_prod, 'qn' : ui_quant, 'amount': records[ui_prod]['pr'] * ui_quant, 'txn_date_time' : txn_date_time}\n"
   ]
  },
  {
   "cell_type": "code",
   "execution_count": 120,
   "id": "9a661987",
   "metadata": {},
   "outputs": [
    {
     "data": {
      "text/plain": [
       "4"
      ]
     },
     "execution_count": 120,
     "metadata": {},
     "output_type": "execute_result"
    }
   ],
   "source": [
    "txn_id = len(sales) + 1\n",
    "txn_id"
   ]
  },
  {
   "cell_type": "code",
   "execution_count": 121,
   "id": "74802096",
   "metadata": {},
   "outputs": [],
   "source": [
    "sales[txn_id] =  {'prod' : ui_prod, 'qn' : ui_quant, 'amount': records[ui_prod]['pr'] * ui_quant, 'txn_date_time' : txn_date_time}"
   ]
  },
  {
   "cell_type": "code",
   "execution_count": 122,
   "id": "c03e8e6b",
   "metadata": {},
   "outputs": [],
   "source": [
    "sale = json.dumps(sales)"
   ]
  },
  {
   "cell_type": "code",
   "execution_count": 123,
   "id": "7c386a89",
   "metadata": {},
   "outputs": [
    {
     "data": {
      "text/plain": [
       "'{\"1\": {\"prod\": \"1002\", \"qn\": 1, \"amount\": 800, \"txn_date_time\": \"2021-09-05 05:25:23\"}, \"2\": {\"prod\": \"1001\", \"qn\": 1, \"amount\": 100, \"txn_date_time\": \"2021-09-05 05:13:33\"}, \"3\": {\"prod\": \"1003\", \"qn\": 1, \"amount\": 85, \"txn_date_time\": \"2021-09-05 05:30:00\"}, \"4\": {\"prod\": \"1004\", \"qn\": 1, \"amount\": 5, \"txn_date_time\": \"2021-09-05 05:32:00\"}}'"
      ]
     },
     "execution_count": 123,
     "metadata": {},
     "output_type": "execute_result"
    }
   ],
   "source": [
    "sale"
   ]
  },
  {
   "cell_type": "markdown",
   "id": "2a7ad0a9",
   "metadata": {},
   "source": [
    "# Persist sales to a JSON File"
   ]
  },
  {
   "cell_type": "code",
   "execution_count": 124,
   "id": "7f18d596",
   "metadata": {},
   "outputs": [],
   "source": [
    "fd = open(\"sales.json\",'w')\n",
    "fd.write(sale)\n",
    "fd.close()"
   ]
  },
  {
   "cell_type": "markdown",
   "id": "8178b670",
   "metadata": {},
   "source": [
    "# Read Update Sales"
   ]
  },
  {
   "cell_type": "code",
   "execution_count": 111,
   "id": "90040e8e",
   "metadata": {},
   "outputs": [],
   "source": [
    "fd = open(\"sales.json\",'r')\n",
    "sales_json = fd.read()\n",
    "fd.close()\n",
    "sales = json.loads(sales_json)"
   ]
  },
  {
   "cell_type": "markdown",
   "id": "d269c83d",
   "metadata": {},
   "source": [
    "# Add New Attribute  / Update Existing Attribute Value"
   ]
  },
  {
   "cell_type": "code",
   "execution_count": 112,
   "id": "2340a156",
   "metadata": {},
   "outputs": [
    {
     "name": "stdout",
     "output_type": "stream",
     "text": [
      "Enter transaction id:1010\n",
      "Enter attribute:txn_date_time\n",
      "Enter attribute value:2021-09-05 05:31:00\n"
     ]
    },
    {
     "ename": "KeyError",
     "evalue": "'1010'",
     "output_type": "error",
     "traceback": [
      "\u001b[0;31m---------------------------------------------------------------------------\u001b[0m",
      "\u001b[0;31mKeyError\u001b[0m                                  Traceback (most recent call last)",
      "\u001b[0;32m<ipython-input-112-f6b559830842>\u001b[0m in \u001b[0;36m<module>\u001b[0;34m\u001b[0m\n\u001b[1;32m      3\u001b[0m \u001b[0mvl\u001b[0m \u001b[0;34m=\u001b[0m \u001b[0mstr\u001b[0m\u001b[0;34m(\u001b[0m\u001b[0minput\u001b[0m\u001b[0;34m(\u001b[0m\u001b[0;34m\"Enter attribute value:\"\u001b[0m\u001b[0;34m)\u001b[0m\u001b[0;34m)\u001b[0m\u001b[0;34m\u001b[0m\u001b[0;34m\u001b[0m\u001b[0m\n\u001b[1;32m      4\u001b[0m \u001b[0;34m\u001b[0m\u001b[0m\n\u001b[0;32m----> 5\u001b[0;31m \u001b[0msales\u001b[0m\u001b[0;34m[\u001b[0m\u001b[0mtxn_id\u001b[0m\u001b[0;34m]\u001b[0m\u001b[0;34m[\u001b[0m\u001b[0mattr\u001b[0m\u001b[0;34m]\u001b[0m \u001b[0;34m=\u001b[0m \u001b[0mvl\u001b[0m\u001b[0;34m\u001b[0m\u001b[0;34m\u001b[0m\u001b[0m\n\u001b[0m\u001b[1;32m      6\u001b[0m \u001b[0;34m\u001b[0m\u001b[0m\n\u001b[1;32m      7\u001b[0m \u001b[0mjs\u001b[0m \u001b[0;34m=\u001b[0m \u001b[0mjson\u001b[0m\u001b[0;34m.\u001b[0m\u001b[0mdumps\u001b[0m\u001b[0;34m(\u001b[0m\u001b[0msales\u001b[0m\u001b[0;34m)\u001b[0m\u001b[0;34m\u001b[0m\u001b[0;34m\u001b[0m\u001b[0m\n",
      "\u001b[0;31mKeyError\u001b[0m: '1010'"
     ]
    }
   ],
   "source": [
    "txn_id = str(input(\"Enter transaction id:\"))\n",
    "attr = str(input(\"Enter attribute:\"))\n",
    "vl = str(input(\"Enter attribute value:\"))\n",
    "\n",
    "sales[txn_id][attr] = vl\n",
    "\n",
    "js = json.dumps(sales)\n",
    "\n",
    "fd = open(\"sales.json\",'w')\n",
    "fd.write(js)\n",
    "fd.close()"
   ]
  },
  {
   "cell_type": "markdown",
   "id": "83509965",
   "metadata": {},
   "source": [
    "# Remove An Attribute From Dictionary"
   ]
  },
  {
   "cell_type": "code",
   "execution_count": null,
   "id": "bd6f3c68",
   "metadata": {},
   "outputs": [],
   "source": [
    "txn_id = str(input(\"Enter transaction id:\"))\n",
    "attr = str(input(\"Enter attribute:\"))\n",
    "\n",
    "sales[txn_id].pop(attr, None)\n",
    "\n",
    "js = json.dumps(sales)\n",
    "\n",
    "fd = open(\"sales.json\",'w')\n",
    "fd.write(js)\n",
    "fd.close()"
   ]
  },
  {
   "cell_type": "code",
   "execution_count": null,
   "id": "94080b07",
   "metadata": {},
   "outputs": [],
   "source": []
  }
 ],
 "metadata": {
  "kernelspec": {
   "display_name": "Python 3",
   "language": "python",
   "name": "python3"
  },
  "language_info": {
   "codemirror_mode": {
    "name": "ipython",
    "version": 3
   },
   "file_extension": ".py",
   "mimetype": "text/x-python",
   "name": "python",
   "nbconvert_exporter": "python",
   "pygments_lexer": "ipython3",
   "version": "3.8.8"
  }
 },
 "nbformat": 4,
 "nbformat_minor": 5
}
