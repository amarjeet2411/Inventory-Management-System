{
 "cells": [
  {
   "cell_type": "markdown",
   "id": "ea9a3c3f",
   "metadata": {},
   "source": [
    "# Read Data from JSON"
   ]
  },
  {
   "cell_type": "code",
   "execution_count": 1,
   "id": "3eaa1fe2",
   "metadata": {},
   "outputs": [],
   "source": [
    "import json\n",
    "fd = open(\"record.json\",'r')\n",
    "r = fd.read()\n",
    "fd.close()\n",
    "\n",
    "record = json.loads(r)"
   ]
  },
  {
   "cell_type": "code",
   "execution_count": 2,
   "id": "fe41c01b",
   "metadata": {},
   "outputs": [
    {
     "data": {
      "text/plain": [
       "{'1001': {'name': 'Choco Cake',\n",
       "  'qn': 34,\n",
       "  'pr': 100,\n",
       "  'discount': '1.1%',\n",
       "  'mfg_date': '2020-01-01',\n",
       "  'exp_date': '2022-01-01'},\n",
       " '1002': {'name': 'Milk Cake',\n",
       "  'pr': 800,\n",
       "  'qn': 100,\n",
       "  'discount': '1.2%',\n",
       "  'mfg_date': '2020-01-01',\n",
       "  'exp_date': '2022-01-01'},\n",
       " '1003': {'name': 'Drink',\n",
       "  'pr': 85,\n",
       "  'qn': 100,\n",
       "  'discount': '1.3%',\n",
       "  'mfg_date': '2020-01-01',\n",
       "  'exp_date': '2022-01-01'},\n",
       " '1004': {'name': 'Candy',\n",
       "  'pr': 5,\n",
       "  'qn': 1000,\n",
       "  'discount': '1.4%',\n",
       "  'mfg_date': '2020-01-01',\n",
       "  'exp_date': '2022-01-01'},\n",
       " '1005': {'name': 'Pen',\n",
       "  'pr': 20,\n",
       "  'qn': 100,\n",
       "  'discount': '1.5%',\n",
       "  'mfg_date': '2022-01-01',\n",
       "  'exp_date': '2022-01-01'},\n",
       " '1006': {'name': 'Phone',\n",
       "  'pr': 50000,\n",
       "  'qn': 7,\n",
       "  'discount': '1.6%',\n",
       "  'mfg_date': '2020-01-01',\n",
       "  'exp_date': '2022-01-01'},\n",
       " '1007': {'name': 'Mic',\n",
       "  'pr': 1500,\n",
       "  'qn': 0,\n",
       "  'discount': '1.7%',\n",
       "  'mfg_date': '2020-01-01',\n",
       "  'exp_date': '2022-01-01'},\n",
       " '1008': {'name': 'Case',\n",
       "  'pr': 599,\n",
       "  'qn': 5,\n",
       "  'discount': '1.8%',\n",
       "  'mfg_date': '2020-01-01',\n",
       "  'exp_date': '2022-01-01'},\n",
       " '1009': {'name': 'Keyboard',\n",
       "  'pr': 1999,\n",
       "  'qn': 10,\n",
       "  'discount': '1.9%',\n",
       "  'mfg_date': '2020-01-01',\n",
       "  'exp_date': '2022-01-01'},\n",
       " '1010': {'name': 'Mouse',\n",
       "  'pr': 999,\n",
       "  'qn': 99,\n",
       "  'discount': '1.10%',\n",
       "  'mfg_date': '2020-01-01',\n",
       "  'exp_date': '2022-01-01'},\n",
       " '1011': {'name': 'Pen',\n",
       "  'pr': 5,\n",
       "  'qn': 100,\n",
       "  'discount': '1.11%',\n",
       "  'mfg_date': '2020-01-01',\n",
       "  'exp_date': '2022-01-01'},\n",
       " '1012': {'name': 'Copy',\n",
       "  'pr': 25,\n",
       "  'qn': 100,\n",
       "  'discount': '1.12%',\n",
       "  'mfg_date': '2020-01-01',\n",
       "  'exp_date': '2022-01-01'},\n",
       " '1013': {'name': 'Pencil',\n",
       "  'pr': 3,\n",
       "  'qn': 100,\n",
       "  'discount': '1.13%',\n",
       "  'mfg_date': '2020-01-01',\n",
       "  'exp_date': '2022-01-01'},\n",
       " '1014': {'name': 'Screen Gaurd',\n",
       "  'pr': 100,\n",
       "  'qn': 100,\n",
       "  'discount': '1.14%',\n",
       "  'mfg_date': '2020-01-01',\n",
       "  'exp_date': '2022-01-01'},\n",
       " '1015': {'name': 'Sanitizer',\n",
       "  'pr': 99,\n",
       "  'qn': 100,\n",
       "  'discount': '1.15%',\n",
       "  'mfg_date': '2020-01-01',\n",
       "  'exp_date': '2022-01-01'},\n",
       " '1016': {'name': 'Mask',\n",
       "  'pr': 99,\n",
       "  'qn': 1000,\n",
       "  'discount': '1.16%',\n",
       "  'mfg_date': '2021-01-01',\n",
       "  'exp_date': '2022-01-01'},\n",
       " '1017': {'name': 'Gloves',\n",
       "  'pr': 100,\n",
       "  'qn': 100,\n",
       "  'discount': '1.17%',\n",
       "  'mfg_date': '2021-01-01',\n",
       "  'exp_date': '2022-01-01'},\n",
       " '1018': {'name': 'Face Wash',\n",
       "  'pr': 299,\n",
       "  'qn': 100,\n",
       "  'discount': '1.18%',\n",
       "  'mfg_date': '2021-01-01',\n",
       "  'exp_date': '2022-01-01'},\n",
       " '1019': {'name': 'Conditioner',\n",
       "  'pr': 399,\n",
       "  'qn': 100,\n",
       "  'discount': '1.19%',\n",
       "  'mfg_date': '2021-01-01',\n",
       "  'exp_date': '2022-01-01'},\n",
       " '1020': {'name': 'Soap',\n",
       "  'pr': 99,\n",
       "  'qn': 1000,\n",
       "  'discount': '1.20%',\n",
       "  'mfg_date': '2021-01-01',\n",
       "  'exp_date': '2022-01-01'},\n",
       " '1021': {'name': 'Gogle',\n",
       "  'pr': 599,\n",
       "  'qn': 100,\n",
       "  'discount': '1.21%',\n",
       "  'mfg_date': '2021-01-01',\n",
       "  'exp_date': '2022-01-01'},\n",
       " '1022': {'name': 'Make-Up-Kit',\n",
       "  'pr': 1999,\n",
       "  'qn': 100,\n",
       "  'discount': '1.22%',\n",
       "  'mfg_date': '2021-01-01',\n",
       "  'exp_date': '2022-01-01'},\n",
       " '1023': {'name': 'HeadPhones',\n",
       "  'pr': 1999,\n",
       "  'qn': 100,\n",
       "  'discount': '1.23%',\n",
       "  'mfg_date': '2021-01-01',\n",
       "  'exp_date': '2022-01-01'},\n",
       " '1024': {'name': 'Laptop',\n",
       "  'pr': 99999,\n",
       "  'qn': 100,\n",
       "  'discount': '1.24%',\n",
       "  'mfg_date': '2021-01-01',\n",
       "  'exp_date': '2022-01-01'},\n",
       " '1025': {'name': 'Charger',\n",
       "  'pr': 999,\n",
       "  'qn': 1000,\n",
       "  'discount': '1.25',\n",
       "  'mfg_date': '2021-01-01',\n",
       "  'exp_date': '2022-01-01'},\n",
       " '1026': {'name': 'USB Cable',\n",
       "  'pr': 599,\n",
       "  'qn': 1000,\n",
       "  'discount': '1.26%',\n",
       "  'mfg_date': '2021-01-01',\n",
       "  'exp_date': '2022-01-01'},\n",
       " '1027': {'name': 'Water Bottle',\n",
       "  'pr': 99,\n",
       "  'qn': 1000,\n",
       "  'discount': '1.27%',\n",
       "  'mfg_date': '2021-01-01',\n",
       "  'exp_date': '2022-01-01'},\n",
       " '1028': {'name': 'MixerCumJuicer',\n",
       "  'pr': 5999,\n",
       "  'qn': 100,\n",
       "  'discount': '1.28%',\n",
       "  'mfg_date': '2021-01-01',\n",
       "  'exp_date': '2022-01-01'},\n",
       " '1029': {'name': 'Fan',\n",
       "  'pr': 1999,\n",
       "  'qn': 100,\n",
       "  'discount': '1.29%',\n",
       "  'mfg_date': '2021-01-01',\n",
       "  'exp_date': '2022-01-01'},\n",
       " '1030': {'name': 'Cooler',\n",
       "  'pr': 9999,\n",
       "  'qn': 1000,\n",
       "  'discount': '1.30%',\n",
       "  'mfg_date': '2021-01-01',\n",
       "  'exp_date': '2022-01-01'},\n",
       " '1031': {'name': 'AC',\n",
       "  'pr': 49999,\n",
       "  'qn': 100,\n",
       "  'discount': '1.30%',\n",
       "  'mfg_date': '2021-01-01',\n",
       "  'exp_date': '2030-01-01'}}"
      ]
     },
     "execution_count": 2,
     "metadata": {},
     "output_type": "execute_result"
    }
   ],
   "source": [
    "record"
   ]
  },
  {
   "cell_type": "markdown",
   "id": "ed5d346b",
   "metadata": {},
   "source": [
    "# Add New Item into Inventory\n"
   ]
  },
  {
   "cell_type": "code",
   "execution_count": 4,
   "id": "30ecaf08",
   "metadata": {},
   "outputs": [
    {
     "name": "stdout",
     "output_type": "stream",
     "text": [
      "Enter product id:1033\n",
      "Enter name:Vaccum Cleaner\n",
      "Enter price:4999\n",
      "Enter quantity:100\n",
      "Enter discount:1.33%\n",
      "Enter mfg date:2021-01-01\n",
      "Enter exp date:2022-01-01\n"
     ]
    }
   ],
   "source": [
    "\n",
    "prod_id = str(input(\"Enter product id:\"))\n",
    "name = str(input(\"Enter name:\"))\n",
    "pr = int(input(\"Enter price:\"))\n",
    "qn = int(input(\"Enter quantity:\"))\n",
    "disc = str(input(\"Enter discount:\"))\n",
    "mfg_date = str(input(\"Enter mfg date:\"))\n",
    "exp_date = str(input(\"Enter exp date:\"))\n",
    "\n",
    "\n",
    "record[prod_id] = {'name': name, 'pr': pr, 'qn': qn, 'discount': disc, 'mfg_date': mfg_date, 'exp_date' : exp_date}\n",
    "\n",
    "js = json.dumps(record)\n",
    "\n",
    "fd = open(\"record.json\",'w')\n",
    "fd.write(js)\n",
    "fd.close()"
   ]
  },
  {
   "cell_type": "code",
   "execution_count": null,
   "id": "007313c7",
   "metadata": {},
   "outputs": [],
   "source": [
    "record"
   ]
  },
  {
   "cell_type": "code",
   "execution_count": null,
   "id": "54b501b9",
   "metadata": {},
   "outputs": [],
   "source": [
    "#del record['1001']\n"
   ]
  },
  {
   "cell_type": "markdown",
   "id": "0c6799e5",
   "metadata": {},
   "source": [
    "# Add New Attribute  / Update Existing Attribute Value"
   ]
  },
  {
   "cell_type": "code",
   "execution_count": 132,
   "id": "905fb82e",
   "metadata": {},
   "outputs": [
    {
     "name": "stdout",
     "output_type": "stream",
     "text": [
      "Enter product id:1012\n",
      "Enter attribute:exp_date\n",
      "Enter attribute value:2022-01-01\n"
     ]
    }
   ],
   "source": [
    "prod_id = str(input(\"Enter product id:\"))\n",
    "attr = str(input(\"Enter attribute:\"))\n",
    "vl = str(input(\"Enter attribute value:\"))\n",
    "\n",
    "record[prod_id][attr] = vl\n",
    "\n",
    "js = json.dumps(record)\n",
    "\n",
    "fd = open(\"record.json\",'w')\n",
    "fd.write(js)\n",
    "fd.close()"
   ]
  },
  {
   "cell_type": "code",
   "execution_count": 133,
   "id": "15f7164a",
   "metadata": {},
   "outputs": [
    {
     "data": {
      "text/plain": [
       "{'1001': {'name': 'Choco Cake',\n",
       "  'qn': 34,\n",
       "  'pr': 100,\n",
       "  'discount': '1.1%',\n",
       "  'mfg_date': '2020-01-01',\n",
       "  'exp_date': '2022-01-01'},\n",
       " '1002': {'name': 'Milk Cake',\n",
       "  'pr': 800,\n",
       "  'qn': 100,\n",
       "  'discount': '1.2%',\n",
       "  'mfg_date': '2020-01-01',\n",
       "  'exp_date': '2022-01-01'},\n",
       " '1003': {'name': 'Drink',\n",
       "  'pr': 85,\n",
       "  'qn': 100,\n",
       "  'discount': '1.3%',\n",
       "  'mfg_date': '2020-01-01',\n",
       "  'exp_date': '2022-01-01'},\n",
       " '1004': {'name': 'Candy',\n",
       "  'pr': 5,\n",
       "  'qn': 1000,\n",
       "  'discount': '1.4%',\n",
       "  'mfg_date': '2020-01-01',\n",
       "  'exp_date': '2022-01-01'},\n",
       " '1005': {'name': 'Pen',\n",
       "  'pr': 20,\n",
       "  'qn': 100,\n",
       "  'discount': '1.5%',\n",
       "  'mfg_date': '2022-01-01',\n",
       "  'exp_date': '2022-01-01'},\n",
       " '1006': {'name': 'Phone',\n",
       "  'pr': 50000,\n",
       "  'qn': 7,\n",
       "  'discount': '1.6%',\n",
       "  'mfg_date': '2020-01-01',\n",
       "  'exp_date': '2022-01-01'},\n",
       " '1007': {'name': 'Mic',\n",
       "  'pr': 1500,\n",
       "  'qn': 0,\n",
       "  'discount': '1.7%',\n",
       "  'mfg_date': '2020-01-01',\n",
       "  'exp_date': '2022-01-01'},\n",
       " '1008': {'name': 'Case',\n",
       "  'pr': 599,\n",
       "  'qn': 5,\n",
       "  'discount': '1.8%',\n",
       "  'mfg_date': '2020-01-01',\n",
       "  'exp_date': '2022-01-01'},\n",
       " '1009': {'name': 'Keyboard',\n",
       "  'pr': 1999,\n",
       "  'qn': 10,\n",
       "  'discount': '1.9%',\n",
       "  'mfg_date': '2020-01-01',\n",
       "  'exp_date': '2022-01-01'},\n",
       " '1010': {'name': 'Mouse',\n",
       "  'pr': 999,\n",
       "  'qn': 99,\n",
       "  'discount': '1.10%',\n",
       "  'mfg_date': '2020-01-01',\n",
       "  'exp_date': '2022-01-01'},\n",
       " '1011': {'name': 'Pen',\n",
       "  'pr': 5,\n",
       "  'qn': 100,\n",
       "  'discount': '1.11%',\n",
       "  'mfg_date': '2020-01-01',\n",
       "  'exp_date': '2022-01-01'},\n",
       " '1012': {'name': 'Copy',\n",
       "  'pr': 25,\n",
       "  'qn': 100,\n",
       "  'discount': '1.12%',\n",
       "  'mfg_date': '2020-01-01',\n",
       "  'exp_date': '2022-01-01'}}"
      ]
     },
     "execution_count": 133,
     "metadata": {},
     "output_type": "execute_result"
    }
   ],
   "source": [
    "record\n"
   ]
  },
  {
   "cell_type": "markdown",
   "id": "046bd64a",
   "metadata": {},
   "source": [
    "# Remove An Attribute From Dictionary"
   ]
  },
  {
   "cell_type": "code",
   "execution_count": 93,
   "id": "1b248d27",
   "metadata": {},
   "outputs": [
    {
     "name": "stdout",
     "output_type": "stream",
     "text": [
      "Enter product id:1012\n",
      "Enter attribute:mfg_date\n"
     ]
    }
   ],
   "source": [
    "prod_id = str(input(\"Enter product id:\"))\n",
    "attr = str(input(\"Enter attribute:\"))\n",
    "\n",
    "record[prod_id].pop(attr, None)\n",
    "\n",
    "js = json.dumps(record)\n",
    "\n",
    "fd = open(\"record.json\",'w')\n",
    "fd.write(js)\n",
    "fd.close()"
   ]
  },
  {
   "cell_type": "code",
   "execution_count": 94,
   "id": "c55d9e37",
   "metadata": {},
   "outputs": [
    {
     "data": {
      "text/plain": [
       "{'1001': {'name': 'Choco Cake', 'qn': 34, 'pr': 100},\n",
       " '1002': {'name': 'Milk Cake', 'pr': 800, 'qn': 100},\n",
       " '1003': {'name': 'Drink', 'pr': 85, 'qn': 100},\n",
       " '1004': {'name': 'Candy', 'pr': 5, 'qn': 1000},\n",
       " '1005': {'name': 'Pen', 'pr': 20, 'qn': 100},\n",
       " '1006': {'name': 'Phone', 'pr': 50000, 'qn': 7},\n",
       " '1007': {'name': 'Mic', 'pr': 1500, 'qn': 0},\n",
       " '1008': {'name': 'Case', 'pr': 599, 'qn': 5},\n",
       " '1009': {'name': 'Keyboard', 'pr': 1999, 'qn': 10},\n",
       " '1010': {'name': 'Mouse', 'pr': 999, 'qn': 99},\n",
       " '1011': {'name': 'Pen', 'pr': 5, 'qn': 100},\n",
       " '1012': {'name': 'Copy', 'pr': 25, 'qn': 100}}"
      ]
     },
     "execution_count": 94,
     "metadata": {},
     "output_type": "execute_result"
    }
   ],
   "source": [
    "record"
   ]
  },
  {
   "cell_type": "code",
   "execution_count": null,
   "id": "3e55b8f1",
   "metadata": {},
   "outputs": [],
   "source": []
  }
 ],
 "metadata": {
  "kernelspec": {
   "display_name": "Python 3",
   "language": "python",
   "name": "python3"
  },
  "language_info": {
   "codemirror_mode": {
    "name": "ipython",
    "version": 3
   },
   "file_extension": ".py",
   "mimetype": "text/x-python",
   "name": "python",
   "nbconvert_exporter": "python",
   "pygments_lexer": "ipython3",
   "version": "3.8.8"
  }
 },
 "nbformat": 4,
 "nbformat_minor": 5
}
